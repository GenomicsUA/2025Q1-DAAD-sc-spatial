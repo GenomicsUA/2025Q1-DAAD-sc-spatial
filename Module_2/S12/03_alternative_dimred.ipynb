{
 "cells": [
  {
   "cell_type": "markdown",
   "metadata": {},
   "source": [
    "# M2S13.03: Application of alternative DimRed methods"
   ]
  },
  {
   "cell_type": "markdown",
   "metadata": {},
   "source": [
    "## 03.1. Library loading"
   ]
  },
  {
   "cell_type": "code",
   "execution_count": null,
   "metadata": {},
   "outputs": [],
   "source": [
    "import scanpy as sc\n",
    "import trimap\n",
    "import phate\n",
    "from ivis import Ivis\n",
    "from sklearn.manifold import MDS\n",
    "import pandas as pd\n",
    "import seaborn as sns\n",
    "import matplotlib.pyplot as plt\n",
    "import matplotlib.patches as mpatches\n",
    "from mpl_toolkits.mplot3d import Axes3D\n",
    "\n",
    "adata = sc.read_h5ad(\"02_object_with_hdbscan.h5ad\")"
   ]
  },
  {
   "cell_type": "markdown",
   "metadata": {},
   "source": [
    "## 03.2. DimRed calculations"
   ]
  },
  {
   "cell_type": "code",
   "execution_count": null,
   "metadata": {},
   "outputs": [],
   "source": [
    "# Use PCA embeddings as the input; alternatively, use adata.X if preferred\n",
    "X = adata.obsm['X_pca']\n",
    "\n",
    "# Compute MDS\n",
    "# mds = MDS(n_components=2, random_state=42)\n",
    "# embedding_mds = mds.fit_transform(X)\n",
    "# adata.obsm['X_mds'] = embedding_mds\n",
    "\n",
    "# Compute Trimap reduction\n",
    "tm = trimap.TRIMAP()\n",
    "embedding_trimap = tm.fit_transform(X)\n",
    "adata.obsm['X_trimap'] = embedding_trimap\n",
    "\n",
    "# Compute PHATE reduction\n",
    "phate_op = phate.PHATE()\n",
    "embedding_phate = phate_op.fit_transform(X)\n",
    "adata.obsm['X_phate'] = embedding_phate\n",
    "\n",
    "# Compute Ivis reduction\n",
    "model = Ivis(embedding_dims=2, k=15)\n",
    "embedding_ivis = model.fit_transform(X)\n",
    "adata.obsm['X_ivis'] = embedding_ivis"
   ]
  },
  {
   "cell_type": "code",
   "execution_count": null,
   "metadata": {},
   "outputs": [],
   "source": [
    "embeddings = {\n",
    "    \"X_pca\": \"PCA\",\n",
    "    \"X_umap\": \"UMAP\",\n",
    "    \"X_trimap\": \"Trimap\",\n",
    "    \"X_phate\": \"PHATE\",\n",
    "    \"X_ivis\": \"IVIS\"\n",
    "}"
   ]
  },
  {
   "cell_type": "markdown",
   "metadata": {},
   "source": [
    "## 03.3. Classical visualization"
   ]
  },
  {
   "cell_type": "markdown",
   "metadata": {},
   "source": [
    "_Code for this plot was generated using Chat GPT 03-mini-high model_"
   ]
  },
  {
   "cell_type": "code",
   "execution_count": null,
   "metadata": {},
   "outputs": [],
   "source": [
    "import seaborn as sns\n",
    "import matplotlib.pyplot as plt\n",
    "import matplotlib.patches as mpatches\n",
    "import pandas as pd\n",
    "import numpy as np\n",
    "\n",
    "sns.set(style=\"whitegrid\", context=\"notebook\", font_scale=1.2)\n",
    "\n",
    "cluster_cols = [\"seurat_clusters\", \"hdbscan_clusters\", \"Selection\", \"Location\"] \n",
    "\n",
    "for cluster_col in cluster_cols:\n",
    "    # Sort clusters. If they can all be cast to int, sort numerically; otherwise, sort lexicographically.\n",
    "    unique_clusters = adata.obs[cluster_col].astype(str).unique()\n",
    "    try:\n",
    "        clusters_sorted = sorted(unique_clusters, key=lambda x: int(x))\n",
    "    except ValueError:\n",
    "        clusters_sorted = sorted(unique_clusters)\n",
    "    \n",
    "    num_clusters = len(clusters_sorted)\n",
    "    \n",
    "    # Choose palette: \"tab20\" if 20 or fewer clusters, otherwise use \"magma\"\n",
    "    if num_clusters <= 20:\n",
    "        palette = sns.color_palette(\"tab20\", num_clusters)\n",
    "    else:\n",
    "        palette = sns.color_palette(\"magma\", num_clusters)\n",
    "    palette_dict = dict(zip(clusters_sorted, palette))\n",
    "    \n",
    "    # Create subplots; one subplot per embedding.\n",
    "    fig, axs = plt.subplots(1, len(embeddings), figsize=(5 * len(embeddings), 5))\n",
    "    # Ensure axs is iterable if there's only one embedding.\n",
    "    if not isinstance(axs, (list, np.ndarray)):\n",
    "        axs = [axs]\n",
    "    \n",
    "    for ax, (key, name) in zip(axs, embeddings.items()):\n",
    "        data = adata.obsm[key]\n",
    "        data = data[:, :2] if data.shape[1] > 2 else data\n",
    "        df = pd.DataFrame(data, columns=[\"Dim1\", \"Dim2\"])\n",
    "        df[cluster_col] = pd.Categorical(\n",
    "            adata.obs[cluster_col].astype(str),\n",
    "            categories=clusters_sorted, ordered=True\n",
    "        )\n",
    "        sns.scatterplot(\n",
    "            data=df, x=\"Dim1\", y=\"Dim2\",\n",
    "            hue=cluster_col, hue_order=clusters_sorted,\n",
    "            palette=palette_dict, s=30, edgecolor=\"k\", alpha=0.8, ax=ax, legend=False\n",
    "        )\n",
    "        ax.set_title(f\"{name} Embedding - {cluster_col}\")\n",
    "        ax.set_xlabel(\"Dimension 1\")\n",
    "        ax.set_ylabel(\"Dimension 2\")\n",
    "    \n",
    "    # Create legend patches; split legend into multiple rows if needed (max 10 columns per row)\n",
    "    patches = [mpatches.Patch(color=palette_dict[cluster], label=cluster) for cluster in clusters_sorted]\n",
    "    ncol = min(num_clusters, 10)\n",
    "    fig.legend(handles=patches, loc=\"lower center\", ncol=ncol,\n",
    "               bbox_to_anchor=(0.5, -0.05), title=\"Clusters\")\n",
    "    \n",
    "    fig.subplots_adjust(bottom=0.25)\n",
    "    plt.show()\n"
   ]
  },
  {
   "cell_type": "markdown",
   "metadata": {},
   "source": [
    "## 03.4. Multidimensional dimensionality reduction visualization (is 3D IMAX better?)"
   ]
  },
  {
   "cell_type": "code",
   "execution_count": null,
   "metadata": {},
   "outputs": [],
   "source": [
    "model_3d = Ivis(embedding_dims=3, k=15)\n",
    "embedding_ivis_3d = model_3d.fit_transform(X)\n",
    "adata.obsm['X_ivis_3d'] = embedding_ivis_3d"
   ]
  },
  {
   "cell_type": "markdown",
   "metadata": {},
   "source": [
    "_Code for this plot was generated using Chat GPT 03-mini-high model_"
   ]
  },
  {
   "cell_type": "code",
   "execution_count": null,
   "metadata": {},
   "outputs": [],
   "source": [
    "sns.set(style=\"whitegrid\", context=\"notebook\", font_scale=1.2)\n",
    "\n",
    "cluster_col = \"Selection\"\n",
    "\n",
    "clusters_sorted = sorted(adata.obs[cluster_col].astype(str).unique())\n",
    "num_clusters = len(clusters_sorted)\n",
    "\n",
    "# Choose palette: \"tab20\" if 20 or fewer clusters, otherwise use \"magma\"\n",
    "if num_clusters <= 20:\n",
    "    palette = sns.color_palette(\"tab20\", num_clusters)\n",
    "else:\n",
    "    palette = sns.color_palette(\"magma\", num_clusters)\n",
    "palette_dict = dict(zip(clusters_sorted, palette))\n",
    "\n",
    "# Create figure and 3D axes\n",
    "fig = plt.figure(figsize=(8, 6))\n",
    "ax = fig.add_subplot(111, projection='3d')\n",
    "\n",
    "# Prepare data from the 3D IVIS embedding\n",
    "data = adata.obsm['X_ivis_3d']\n",
    "data = data[:, :3] if data.shape[1] > 3 else data\n",
    "df = pd.DataFrame(data, columns=[\"Dim1\", \"Dim2\", \"Dim3\"])\n",
    "df[cluster_col] = pd.Categorical(adata.obs[cluster_col].astype(str), categories=clusters_sorted, ordered=True)\n",
    "\n",
    "# Plot each cluster separately\n",
    "for cluster in clusters_sorted:\n",
    "    subset = df[df[cluster_col] == cluster]\n",
    "    ax.scatter(subset[\"Dim1\"], subset[\"Dim2\"], subset[\"Dim3\"],\n",
    "               color=palette_dict[cluster], s=30, edgecolor=\"k\", alpha=0.8, label=cluster)\n",
    "\n",
    "ax.set_title(\"IVIS 3D Embedding\")\n",
    "ax.set_xlabel(\"Dimension 1\")\n",
    "ax.set_ylabel(\"Dimension 2\")\n",
    "ax.set_zlabel(\"Dimension 3\")\n",
    "\n",
    "# Create legend patches\n",
    "patches = [mpatches.Patch(color=palette_dict[cluster], label=cluster) for cluster in clusters_sorted]\n",
    "ax.legend(handles=patches, loc=\"upper right\", title=\"Clusters\", bbox_to_anchor=(1.1, 1))\n",
    "\n",
    "plt.show()"
   ]
  },
  {
   "cell_type": "code",
   "execution_count": null,
   "metadata": {},
   "outputs": [],
   "source": [
    "phate_op = phate.PHATE(n_components=3)\n",
    "embedding_phate = phate_op.fit_transform(X)\n",
    "adata.obsm['X_phate'] = embedding_phate"
   ]
  },
  {
   "cell_type": "code",
   "execution_count": null,
   "metadata": {},
   "outputs": [],
   "source": [
    "cluster_col = \"Selection\"\n",
    "\n",
    "clusters_sorted = sorted(adata.obs[cluster_col].astype(str).unique())\n",
    "num_clusters = len(clusters_sorted)\n",
    "\n",
    "# Choose palette: \"tab20\" if 20 or fewer clusters, otherwise use \"magma\"\n",
    "if num_clusters <= 20:\n",
    "    palette = sns.color_palette(\"tab20\", num_clusters)\n",
    "else:\n",
    "    palette = sns.color_palette(\"magma\", num_clusters)\n",
    "palette_dict = dict(zip(clusters_sorted, palette))\n",
    "\n",
    "# Create figure and 3D axes\n",
    "fig = plt.figure(figsize=(8, 6))\n",
    "ax = fig.add_subplot(111, projection='3d')\n",
    "\n",
    "# Prepare data from the 3D PHATE embedding\n",
    "data = adata.obsm['X_phate']\n",
    "data = data[:, :3] if data.shape[1] > 3 else data\n",
    "df = pd.DataFrame(data, columns=[\"Dim1\", \"Dim2\", \"Dim3\"])\n",
    "df[cluster_col] = pd.Categorical(adata.obs[cluster_col].astype(str), categories=clusters_sorted, ordered=True)\n",
    "\n",
    "# Plot each cluster separately\n",
    "for cluster in clusters_sorted:\n",
    "    subset = df[df[cluster_col] == cluster]\n",
    "    ax.scatter(subset[\"Dim1\"], subset[\"Dim2\"], subset[\"Dim3\"],\n",
    "               color=palette_dict[cluster], s=30, edgecolor=\"k\", alpha=0.8, label=cluster)\n",
    "\n",
    "ax.set_title(\"PHATE 3D Embedding\")\n",
    "ax.set_xlabel(\"Dimension 1\")\n",
    "ax.set_ylabel(\"Dimension 2\")\n",
    "ax.set_zlabel(\"Dimension 3\")\n",
    "\n",
    "# Create legend patches\n",
    "patches = [mpatches.Patch(color=palette_dict[cluster], label=cluster) for cluster in clusters_sorted]\n",
    "ax.legend(handles=patches, loc=\"upper right\", title=\"Clusters\", bbox_to_anchor=(1.1, 1))\n",
    "\n",
    "plt.show()"
   ]
  },
  {
   "cell_type": "markdown",
   "metadata": {},
   "source": [
    "## 03.5. Exporting the new object"
   ]
  },
  {
   "cell_type": "code",
   "execution_count": null,
   "metadata": {},
   "outputs": [],
   "source": [
    "# adata.write(\"03_object_with_alt_dimreds.h5ad\")"
   ]
  }
 ],
 "metadata": {
  "kernelspec": {
   "display_name": "py-M2S12",
   "language": "python",
   "name": "py-m2s12"
  },
  "language_info": {
   "codemirror_mode": {
    "name": "ipython",
    "version": 3
   },
   "file_extension": ".py",
   "mimetype": "text/x-python",
   "name": "python",
   "nbconvert_exporter": "python",
   "pygments_lexer": "ipython3",
   "version": "3.11.11"
  }
 },
 "nbformat": 4,
 "nbformat_minor": 2
}
