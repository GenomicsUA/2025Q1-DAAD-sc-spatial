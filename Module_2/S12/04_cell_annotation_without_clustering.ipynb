{
 "cells": [
  {
   "cell_type": "markdown",
   "metadata": {},
   "source": [
    "# M2S13. 04: Not cluster-based cell annotation"
   ]
  },
  {
   "cell_type": "markdown",
   "metadata": {},
   "source": [
    "## 04.1. Library and files loading"
   ]
  },
  {
   "cell_type": "code",
   "execution_count": null,
   "metadata": {
    "vscode": {
     "languageId": "r"
    }
   },
   "outputs": [],
   "source": [
    "library(Seurat)\n",
    "library(dplyr)"
   ]
  },
  {
   "cell_type": "code",
   "execution_count": null,
   "metadata": {
    "vscode": {
     "languageId": "r"
    }
   },
   "outputs": [],
   "source": [
    "seurat_obj <- readRDS(\"01_seurat_obj.Rds\")"
   ]
  },
  {
   "cell_type": "markdown",
   "metadata": {},
   "source": [
    "## 04.2. Module score-based annotation"
   ]
  },
  {
   "cell_type": "code",
   "execution_count": null,
   "metadata": {
    "vscode": {
     "languageId": "r"
    }
   },
   "outputs": [],
   "source": [
    "cns_markers <- list(\n",
    "  Astrocytes = c(\"GFAP\", \"AQP4\", \"ALDH1L1\", \"S100B\", \"SLC1A3\"),\n",
    "  Astrocytes_Protoplasmic = c(\"SLC1A2\", \"ALDH1L1\", \"GFAP\"),\n",
    "  Astrocytes_Fibrous = c(\"GFAP\", \"VIM\", \"CD44\"),\n",
    "  Oligodendrocyte_Precursors = c(\"PDGFRA\", \"CSPG4\"),\n",
    "  Oligodendrocytes_Mature = c(\"MBP\", \"MOG\", \"PLP1\"),\n",
    "  Neurons_Excitatory = c(\"SLC17A7\", \"CAMK2A\", \"GRIN1\"),\n",
    "  Neurons_Inhibitory = c(\"GAD1\", \"GAD2\", \"SLC32A1\"),\n",
    "  Microglia = c(\"CX3CR1\", \"P2RY12\", \"TMEM119\", \"ITGAM\"))\n",
    "\n",
    "seurat_obj <- AddModuleScore(object = seurat_obj,\n",
    "  features = cns_markers,\n",
    "  name = \"CNS_Score\"\n",
    ")\n",
    "\n",
    "score_columns <- grep(\"CNS_Score\", colnames(seurat_obj@meta.data), value = TRUE)\n",
    "seurat_obj@meta.data$assigned_celltype <- factor(apply(seurat_obj@meta.data[, score_columns], 1, function(x) names(cns_markers)[which.max(x)]))"
   ]
  },
  {
   "cell_type": "code",
   "execution_count": null,
   "metadata": {
    "vscode": {
     "languageId": "r"
    }
   },
   "outputs": [],
   "source": [
    "cluster_markers <- FindAllMarkers(\n",
    "    seurat_obj, only.pos = TRUE,\n",
    "    min.pct = 0.25, logfc.threshold = 0.25,\n",
    "    group.by = \"seurat_clusters\"\n",
    ")\n",
    "\n",
    "celltype_markers <- FindAllMarkers(\n",
    "    seurat_obj, only.pos = TRUE,\n",
    "    min.pct = 0.25, logfc.threshold = 0.25,\n",
    "    group.by = \"assigned_celltype\"\n",
    ")"
   ]
  },
  {
   "cell_type": "code",
   "execution_count": null,
   "metadata": {
    "vscode": {
     "languageId": "r"
    }
   },
   "outputs": [],
   "source": [
    "top5_clusters <- cluster_markers %>% group_by(cluster) %>% mutate(pctdiff = pct.1-pct.2) %>% top_n(n = 3, wt = pctdiff) \n",
    "top5_celltypes <- celltype_markers %>% group_by(cluster) %>% mutate(pctdiff = pct.1-pct.2) %>% top_n(n = 5, wt = pctdiff)\n",
    "\n",
    "DoHeatmap(subset(seurat_obj, downsample = 30), features = top5_clusters$gene, assay = \"RNA\", slot = \"counts\") + NoLegend()\n",
    "DoHeatmap(subset(seurat_obj, downsample = 30), features = top5_celltypes$gene, group.by = \"assigned_celltype\", assay = \"RNA\", slot = \"counts\") + NoLegend()"
   ]
  }
 ],
 "metadata": {
  "kernelspec": {
   "display_name": "r-M2S12",
   "language": "R",
   "name": "r-m2s12"
  },
  "language_info": {
   "codemirror_mode": "r",
   "file_extension": ".r",
   "mimetype": "text/x-r-source",
   "name": "R",
   "pygments_lexer": "r",
   "version": "4.4.2"
  }
 },
 "nbformat": 4,
 "nbformat_minor": 2
}
