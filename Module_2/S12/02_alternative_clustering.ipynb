{
 "cells": [
  {
   "cell_type": "markdown",
   "metadata": {},
   "source": [
    "# M2S13.02: Exploring alternative clustering methods"
   ]
  },
  {
   "cell_type": "markdown",
   "metadata": {},
   "source": [
    "## 02.1. Library loading"
   ]
  },
  {
   "cell_type": "code",
   "execution_count": null,
   "metadata": {},
   "outputs": [],
   "source": [
    "import scanpy as sc\n",
    "import hdbscan"
   ]
  },
  {
   "cell_type": "code",
   "execution_count": null,
   "metadata": {},
   "outputs": [],
   "source": [
    "adata = sc.read_h5ad(\"01_object.h5ad\")"
   ]
  },
  {
   "cell_type": "markdown",
   "metadata": {},
   "source": [
    "## 02.2. HDBSCAN clustering"
   ]
  },
  {
   "cell_type": "code",
   "execution_count": null,
   "metadata": {},
   "outputs": [],
   "source": [
    "X = adata.obsm['X_pca']\n",
    "\n",
    "clusterer = hdbscan.HDBSCAN(min_cluster_size=20, min_samples=1, cluster_selection_method='eom')\n",
    "clusters = clusterer.fit_predict(X)\n",
    "\n",
    "adata.obs['hdbscan_clusters'] = clusters.astype(str)\n",
    "\n",
    "sc.pl.umap(adata, color='hdbscan_clusters', title='HDBSCAN Clusters')"
   ]
  },
  {
   "cell_type": "markdown",
   "metadata": {},
   "source": [
    "## 02.3. Exporting the clustered anndata object"
   ]
  },
  {
   "cell_type": "code",
   "execution_count": null,
   "metadata": {},
   "outputs": [],
   "source": [
    "if adata.raw is not None and '_index' in adata.raw.var.columns:\n",
    "    adata.raw.var.drop(columns=['_index'], inplace=True)\n",
    "\n",
    "adata.write(\"02_object_with_hdbscan.h5ad\")\n"
   ]
  }
 ],
 "metadata": {
  "kernelspec": {
   "display_name": "py-M2S12",
   "language": "python",
   "name": "py-m2s12"
  },
  "language_info": {
   "codemirror_mode": {
    "name": "ipython",
    "version": 3
   },
   "file_extension": ".py",
   "mimetype": "text/x-python",
   "name": "python",
   "nbconvert_exporter": "python",
   "pygments_lexer": "ipython3",
   "version": "3.11.11"
  }
 },
 "nbformat": 4,
 "nbformat_minor": 2
}
