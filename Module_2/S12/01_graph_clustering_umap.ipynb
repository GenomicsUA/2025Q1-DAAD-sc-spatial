{
 "cells": [
  {
   "cell_type": "markdown",
   "metadata": {},
   "source": [
    "# M2S13.01: Exploring alternative clustering methods"
   ]
  },
  {
   "cell_type": "markdown",
   "metadata": {},
   "source": [
    "## 01.1. Library and files loading"
   ]
  },
  {
   "cell_type": "code",
   "execution_count": null,
   "metadata": {
    "vscode": {
     "languageId": "r"
    }
   },
   "outputs": [],
   "source": [
    "library(Seurat)\n",
    "library(clustree)\n",
    "library(cluster)\n",
    "library(ggplot2)\n",
    "library(dplyr)\n",
    "\n",
    "# BiocManager::install('glmGamPoi')\n",
    "# devtools::install_github(\"immunogenomics/presto\")"
   ]
  },
  {
   "cell_type": "code",
   "execution_count": null,
   "metadata": {
    "vscode": {
     "languageId": "r"
    }
   },
   "outputs": [],
   "source": [
    "count_matrix <- read.csv(\"count_matrix.csv\", row.names = 1, check.names = FALSE)\n",
    "metadata <- read.csv(\"metadata.csv\", row.names = 1)"
   ]
  },
  {
   "cell_type": "markdown",
   "metadata": {},
   "source": [
    "## 01.2. Quick Seurat workflow (see previous classes)"
   ]
  },
  {
   "cell_type": "code",
   "execution_count": null,
   "metadata": {
    "vscode": {
     "languageId": "r"
    }
   },
   "outputs": [],
   "source": [
    "# Create a Seurat object\n",
    "seurat_object <- CreateSeuratObject(counts = count_matrix, meta.data = metadata, min.cells = 3, min.features = 200)\n",
    "\n",
    "# Standard workflow\n",
    "seurat_object <- SCTransform(seurat_object, verbose = FALSE)\n",
    "seurat_object <- RunPCA(seurat_object, features = VariableFeatures(object = seurat_object))\n",
    "seurat_object <- FindNeighbors(seurat_object, dims = 1:30)\n",
    "seurat_object <- FindClusters(seurat_object, resolution = 0.5)\n",
    "seurat_object <- RunUMAP(seurat_object, dims = 1:30)"
   ]
  },
  {
   "cell_type": "code",
   "execution_count": null,
   "metadata": {
    "vscode": {
     "languageId": "r"
    }
   },
   "outputs": [],
   "source": [
    "DimPlot(seurat_object, reduction = \"umap\", group.by = \"Selection\", label = TRUE, label.box = TRUE, repel = TRUE) + NoLegend()\n",
    "DimPlot(seurat_object, reduction = \"umap\", group.by = \"Location\", label = TRUE, label.box = TRUE, repel = TRUE) + NoLegend()\n",
    "DimPlot(seurat_object, reduction = \"umap\", label = TRUE, label.box = TRUE, repel = TRUE) + NoLegend()"
   ]
  },
  {
   "cell_type": "markdown",
   "metadata": {},
   "source": [
    "## 01.3. Selecting optimal clustering resolution"
   ]
  },
  {
   "cell_type": "code",
   "execution_count": null,
   "metadata": {
    "vscode": {
     "languageId": "r"
    }
   },
   "outputs": [],
   "source": [
    "resolutions <- seq(from = 0.2, to = 2, by = 0.2)\n",
    "seurat_object <- FindClusters(seurat_object, resolution = resolutions)"
   ]
  },
  {
   "cell_type": "markdown",
   "metadata": {},
   "source": [
    "### _Ad oculus_: cluster tree"
   ]
  },
  {
   "cell_type": "code",
   "execution_count": null,
   "metadata": {
    "vscode": {
     "languageId": "r"
    }
   },
   "outputs": [],
   "source": [
    "# Draw cluster tree with clustree to assess stability across resolutions\n",
    "clustree(seurat_object, prefix = \"SCT_snn_res.\")"
   ]
  },
  {
   "cell_type": "markdown",
   "metadata": {},
   "source": [
    "### Metrics-based: silhouette score"
   ]
  },
  {
   "cell_type": "code",
   "execution_count": null,
   "metadata": {
    "vscode": {
     "languageId": "r"
    }
   },
   "outputs": [],
   "source": [
    "pca_embeddings <- Embeddings(seurat_object, reduction = \"pca\")\n",
    "dist_matrix <- dist(pca_embeddings)\n",
    "\n",
    "# Compute silhouette scores for each clustering resolution\n",
    "sil_scores <- sapply(resolutions, function(res) {\n",
    "  col_name <- paste0(\"SCT_snn_res.\", res)\n",
    "  cluster_ids <- as.numeric(as.factor(seurat_object@meta.data[[col_name]]))\n",
    "  if (length(unique(cluster_ids)) < 2) {\n",
    "    return(NA) \n",
    "  }\n",
    "  sil <- silhouette(cluster_ids, dist_matrix)\n",
    "  if (is.null(dim(sil))) {\n",
    "    return(NA)\n",
    "  }\n",
    "  mean(sil[, \"sil_width\"])\n",
    "})\n",
    "\n",
    "sil_df <- data.frame(Resolution = resolutions, Avg_Silhouette = sil_scores)\n",
    "print(sil_df)\n",
    "\n",
    "ggplot(sil_df, aes(x = Resolution, y = Avg_Silhouette)) +\n",
    "  geom_line() +\n",
    "  geom_point() +\n",
    "  theme_minimal() +\n",
    "  labs(title = \"Average Silhouette Score Across Clustering Resolutions\",\n",
    "       y = \"Average Silhouette Width\") +\n",
    "  scale_x_continuous(breaks = sil_df$Resolution)"
   ]
  },
  {
   "cell_type": "code",
   "execution_count": null,
   "metadata": {
    "vscode": {
     "languageId": "r"
    }
   },
   "outputs": [],
   "source": [
    "seurat_object <- FindClusters(seurat_object, resolution = 0.6)"
   ]
  },
  {
   "cell_type": "code",
   "execution_count": null,
   "metadata": {
    "vscode": {
     "languageId": "r"
    }
   },
   "outputs": [],
   "source": [
    "DimPlot(seurat_object, reduction = \"umap\", label = TRUE, label.box = TRUE, repel = TRUE) + NoLegend()"
   ]
  },
  {
   "cell_type": "code",
   "execution_count": null,
   "metadata": {
    "vscode": {
     "languageId": "r"
    }
   },
   "outputs": [],
   "source": [
    "FeaturePlot(seurat_object, features = \"PTPRC\")\n",
    "FeaturePlot(seurat_object, features = \"THY1\")\n",
    "FeaturePlot(seurat_object, features = \"OLIG1\")"
   ]
  },
  {
   "cell_type": "code",
   "execution_count": null,
   "metadata": {
    "vscode": {
     "languageId": "r"
    }
   },
   "outputs": [],
   "source": [
    "markers <- FindMarkers(seurat_object, ident.1 = \"0\", ident.2 = \"2\", min.diff.pct = 0.25)"
   ]
  },
  {
   "cell_type": "code",
   "execution_count": null,
   "metadata": {
    "vscode": {
     "languageId": "r"
    }
   },
   "outputs": [],
   "source": [
    "markers %>% filter(abs(avg_log2FC) > 0.5, p_val_adj < 0.05) %>% arrange(desc(avg_log2FC))"
   ]
  },
  {
   "cell_type": "markdown",
   "metadata": {},
   "source": [
    "## 01.4. Exporting as AnnotData object for future analysis"
   ]
  },
  {
   "cell_type": "code",
   "execution_count": null,
   "metadata": {
    "vscode": {
     "languageId": "r"
    }
   },
   "outputs": [],
   "source": [
    "library(SeuratDisk)"
   ]
  },
  {
   "cell_type": "code",
   "execution_count": null,
   "metadata": {
    "vscode": {
     "languageId": "r"
    }
   },
   "outputs": [],
   "source": [
    "SaveH5Seurat(seurat_object, filename = \"01_object.h5Seurat\")"
   ]
  },
  {
   "cell_type": "code",
   "execution_count": null,
   "metadata": {
    "vscode": {
     "languageId": "r"
    }
   },
   "outputs": [],
   "source": [
    "Convert(\"01_object.h5Seurat\", dest = \"h5ad\", overwrite = TRUE)"
   ]
  },
  {
   "cell_type": "code",
   "execution_count": null,
   "metadata": {
    "vscode": {
     "languageId": "r"
    }
   },
   "outputs": [],
   "source": [
    "saveRDS(seurat_object, \"01_seurat_obj.Rds\")"
   ]
  }
 ],
 "metadata": {
  "kernelspec": {
   "display_name": "r-M2S12",
   "language": "R",
   "name": "r-m2s12"
  },
  "language_info": {
   "codemirror_mode": "r",
   "file_extension": ".r",
   "mimetype": "text/x-r-source",
   "name": "R",
   "pygments_lexer": "r",
   "version": "4.4.2"
  }
 },
 "nbformat": 4,
 "nbformat_minor": 2
}
